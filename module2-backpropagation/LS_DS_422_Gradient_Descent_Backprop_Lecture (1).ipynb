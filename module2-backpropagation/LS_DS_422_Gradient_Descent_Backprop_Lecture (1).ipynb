{
  "nbformat": 4,
  "nbformat_minor": 0,
  "metadata": {
    "kernelspec": {
      "display_name": "U4-S2-NNF (Python 3.7)",
      "language": "python",
      "name": "u4-s2-nnf"
    },
    "language_info": {
      "codemirror_mode": {
        "name": "ipython",
        "version": 3
      },
      "file_extension": ".py",
      "mimetype": "text/x-python",
      "name": "python",
      "nbconvert_exporter": "python",
      "pygments_lexer": "ipython3",
      "version": "3.7.3"
    },
    "colab": {
      "name": "LS_DS_422_Gradient_Descent_Backprop_Lecture.ipynb",
      "provenance": []
    }
  },
  "cells": [
    {
      "cell_type": "markdown",
      "metadata": {
        "id": "mgG12q7WbXC1",
        "colab_type": "text"
      },
      "source": [
        "Lambda School Data Science\n",
        "\n",
        "*Unit 4, Sprint 2, Module 2*\n",
        "\n",
        "---"
      ]
    },
    {
      "cell_type": "markdown",
      "metadata": {
        "toc-hr-collapsed": false,
        "id": "XY1vvuETbXC2",
        "colab_type": "text"
      },
      "source": [
        "# Backpropagation & Gradient Descent (Prepare)"
      ]
    },
    {
      "cell_type": "markdown",
      "metadata": {
        "id": "mAd6qj6ybXC2",
        "colab_type": "text"
      },
      "source": [
        "## Learning Objectives\n",
        "* <a href=\"#p1\">Part 1</a>: Explain the intutition behind backproprogation\n",
        "* <a href=\"#p2\">Part 2</a>: Implement gradient descent + backpropagation on a feedforward neural network. \n",
        "* <a href=\"#p3\">Part 3</a>: Introduce the Keras Sequential Model API"
      ]
    },
    {
      "cell_type": "markdown",
      "metadata": {
        "id": "nEmuHSOLbXC3",
        "colab_type": "text"
      },
      "source": [
        "## Summary of Yesterday\n",
        "\n",
        "Yesterday, we learned about some of the principal components of Neural Networks: Neurons, Weights, Activation Functions, and layers (input, output, & hidden). Today, we will reinforce our understanding of those components and introduce the mechanics of training a neural network. Feed-forward neural networks, such as multi-layer perceptrons (MLPs), are almost always trained using some variation of gradient descent where the gradient has been calculated by backpropagation.\n",
        "\n",
        "<center><img src=\"https://cdn-images-1.medium.com/max/1600/1*_M4bZyuwaGby6KMiYVYXvg.jpeg\" width=\"400\"></center>\n",
        "\n",
        "- There are three kinds of layers: input, hidden, and output layers.\n",
        "- Each layer is made up of **n** individual neurons (aka activation units) which have a corresponding weight and bias.\n",
        "- Signal is passed from layer to layer through a network by:\n",
        " - Taking in inputs from the training data (or previous layer)\n",
        " - Multiplying each input by its corresponding weight (think arrow/connecting line)\n",
        " - Adding a bias to this weighted some of inputs and weights\n",
        " - Activating this weighted sum + bias by squishifying it with sigmoid or some other activation function. With a single perceptron with three inputs, calculating the output from the node is done like so:\n",
        "\\begin{align}\n",
        " y = sigmoid(\\sum(weight_{1}input_{1} + weight_{2}input_{2} + weight_{3}input_{3}) + bias)\n",
        "\\end{align}\n",
        " - this final activated value is the signal that gets passed onto the next layer of the network.\n",
        " "
      ]
    },
    {
      "cell_type": "markdown",
      "metadata": {
        "id": "1ij30Tp4bXC4",
        "colab_type": "text"
      },
      "source": [
        "## Training a Neural Network: *Formal Summary*\n",
        "\n",
        "0. Pick a network architecture\n",
        "   - No. of input units = No. of features\n",
        "   - No. of output units = Number of Classes (or expected targets)\n",
        "   - Select the number of hidden layers and number of neurons within each hidden layer\n",
        "1. Randomly initialize weights\n",
        "2. Implement forward propagation to get $h_{\\theta}(x^{(i)})$ for any $x^{(i)}$\n",
        "3. Implement code to compute a cost function $J(\\theta)$\n",
        "4. Implement backpropagation to compute partial derivatives $\\frac{\\delta}{\\delta\\theta_{jk}^{l}}{J(\\theta)}$\n",
        "5. Use gradient descent (or other advanced optimizer) with backpropagation to minimize $J(\\theta)$ as a function of parameters $\\theta\\$\n",
        "6. Repeat steps 2 - 5 until cost function is 'minimized' or some other stopping criteria is met. One pass over steps 2 - 5 is called an iteration or epoch."
      ]
    },
    {
      "cell_type": "markdown",
      "metadata": {
        "toc-hr-collapsed": false,
        "id": "sl1tbqhhbXC4",
        "colab_type": "text"
      },
      "source": [
        "## Calculating *\"cost\"*, *\"loss\"* or *\"error\"*\n",
        "\n",
        "We've talked about how in order to evaluate a network's performance, the data is \"fed forward\" until predictions are obtained and then the \"loss\" or \"error\" for a given observation is ascertained by looking at what the network predicted for that observation and comparing it to what it *should* have predicted. \n",
        "\n",
        "The error for a given observation is calculated by taking the square of the difference between the predicted value and the actual value. \n",
        "\n",
        "We can summarize the overall quality of a network's predictions by finding the average error across all observations. This gives us the \"Mean Squared Error.\" which hopefully is a fairly familiar model evaluation metric by now. Graphing the MSE over each epoch (training cycle) is a common practice with Neural Networks. This is what you're seeing in the top right corner of the Tensorflow Playground website as the number of \"epochs\" climbs higher and higher."
      ]
    },
    {
      "cell_type": "markdown",
      "metadata": {
        "id": "wOfi3iqybXC5",
        "colab_type": "text"
      },
      "source": [
        "## What is an \"Epoch\"?\n",
        "\n",
        "An \"Epoch\" is one cycle of passing our data forward through the network, measuring error given our specified cost function, and then -via gradient descent- updating weights within our network to hopefully improve the quality of our predictions on the next iteration."
      ]
    },
    {
      "cell_type": "markdown",
      "metadata": {
        "id": "sQzko_whbXC5",
        "colab_type": "text"
      },
      "source": [
        "### A note about Hyperparameters\n",
        "\n",
        "Neural Networks have many more hyperparameters than other machine learning algorithms which is part of what makes them a beast to train.\n",
        "\n",
        "1. You need more data to train them on. \n",
        "2. They're complex so they take longer to train. \n",
        "3. They have lots and lots of hyperparameters which we need to find the most optimal combination of, so we might end up training our model dozens or hundreds of times with different combinations of hyperparameters in order to try and squeeze out a few more tenths of a percent of accuracy. "
      ]
    },
    {
      "cell_type": "markdown",
      "metadata": {
        "colab_type": "text",
        "id": "aM4CK1IarId4",
        "toc-hr-collapsed": false
      },
      "source": [
        "# Backpropagation (Learn)\n",
        "<a id=\"p1\"></a>"
      ]
    },
    {
      "cell_type": "markdown",
      "metadata": {
        "colab_type": "text",
        "toc-hr-collapsed": true,
        "id": "W91CWjUZbXC6"
      },
      "source": [
        "## Overview\n",
        "\n",
        "Backpropagation is short for [\"Backwards Propagation of errors\"](https://en.wikipedia.org/wiki/Backpropagation) and refers to a specific (rather calculus intensive) algorithm for how weights in a neural network are updated in reverse order at the end of each training epoch. Our purpose today is to demonstrate the backpropagation algorithm on a simple Feedforward Neural Network and in so doing help you get a grasp on the main process. If you want to understand all of the underlying calculus of how the gradients are calculated then you'll need to dive into it yourself, [3Blue1Brown's video is a great starting place](https://www.youtube.com/watch?v=tIeHLnjs5U8). I also highly recommend this Welch Labs series [Neural Networks Demystified](https://www.youtube.com/watch?v=bxe2T-V8XRs) if you want a rapid yet orderly walk through of the main intuitions and math behind the backpropagation algorithm. "
      ]
    },
    {
      "cell_type": "markdown",
      "metadata": {
        "id": "HQf4j7dRbXC7",
        "colab_type": "text"
      },
      "source": [
        "### What is a Gradient?\n",
        "\n",
        "> In vector calculus, the gradient is a multi-variable generalization of the derivative. \n",
        "\n",
        "The gradients that we will deal with today will be vector representations of the derivative of the activation function. "
      ]
    },
    {
      "cell_type": "markdown",
      "metadata": {
        "toc-hr-collapsed": true,
        "id": "_i-g6RYrbXC7",
        "colab_type": "text"
      },
      "source": [
        "## Follow Along\n",
        "\n",
        "In this section, we will again implement a multi-layer perceptron using numpy. We'll focus on using a __Feed Forward Neural Network__ to predict test scores. "
      ]
    },
    {
      "cell_type": "markdown",
      "metadata": {
        "colab_type": "text",
        "id": "Dm2HPETcrgy6",
        "toc-hr-collapsed": true
      },
      "source": [
        "![231 Neural Network](https://cdn-images-1.medium.com/max/1600/1*IjY3wFF24sK9UhiOlf36Bw.png)"
      ]
    },
    {
      "cell_type": "markdown",
      "metadata": {
        "colab_type": "text",
        "id": "4d4tzpwO6B47"
      },
      "source": [
        "### Generate some Fake Data"
      ]
    },
    {
      "cell_type": "code",
      "metadata": {
        "colab_type": "code",
        "id": "ERyVgeO_IWyV",
        "colab": {}
      },
      "source": [
        "import numpy as np\n",
        "\n",
        "np.random.seed(812)\n",
        "\n",
        "# Imagine that our data is drawn from a linear function\n",
        "# y = 2*hours_studying + 4*hours_sleeping + 50\n",
        "\n",
        "# hours studying, hours sleep\n",
        "X = np.array(([2,9],\n",
        "              [1,5],\n",
        "              [3,6]), dtype=float)\n",
        "\n",
        "# Exam Scores\n",
        "y = np.array(([90],\n",
        "              [72],\n",
        "              [80]), dtype=float)"
      ],
      "execution_count": 0,
      "outputs": []
    },
    {
      "cell_type": "markdown",
      "metadata": {
        "id": "xHsudY_ObXDA",
        "colab_type": "text"
      },
      "source": [
        "### Feature Normalization"
      ]
    },
    {
      "cell_type": "code",
      "metadata": {
        "colab_type": "code",
        "id": "cDeUBW6k4Ri4",
        "colab": {
          "base_uri": "https://localhost:8080/",
          "height": 153
        },
        "outputId": "336ad145-eb57-47c9-c0c5-b8d9eb066afe"
      },
      "source": [
        "# Normalizing Data on feature \n",
        "# Neural Network would probably do this on its own, but it will help us converge on a solution faster\n",
        "X = X / np.amax(X, axis=0)\n",
        "y = y / 100\n",
        "\n",
        "print(\"Studying, Sleeping \\n\", X)\n",
        "print(\"Test Score \\n\", y)"
      ],
      "execution_count": 2,
      "outputs": [
        {
          "output_type": "stream",
          "text": [
            "Studying, Sleeping \n",
            " [[0.66666667 1.        ]\n",
            " [0.33333333 0.55555556]\n",
            " [1.         0.66666667]]\n",
            "Test Score \n",
            " [[0.9 ]\n",
            " [0.72]\n",
            " [0.8 ]]\n"
          ],
          "name": "stdout"
        }
      ]
    },
    {
      "cell_type": "markdown",
      "metadata": {
        "colab_type": "text",
        "id": "bgTf6vTS69Sw"
      },
      "source": [
        "### Neural Network Architecture\n",
        "Lets create a Neural_Network class to contain this functionality"
      ]
    },
    {
      "cell_type": "code",
      "metadata": {
        "colab_type": "code",
        "id": "RUI8VSR5zyBv",
        "colab": {}
      },
      "source": [
        "class NeuralNetwork:\n",
        "    \n",
        "    def __init__(self):\n",
        "        # Set up Arch\n",
        "        self.inputs = 2\n",
        "        self.hiddenNodes = 3\n",
        "        self.outputNodes = 1\n",
        "        \n",
        "        # Initialize Weights\n",
        "        # 2x3\n",
        "        self.weights1 = np.random.randn(self.inputs,self.hiddenNodes)\n",
        "        \n",
        "        # 3x1\n",
        "        self.weights2 = np.random.randn(self.hiddenNodes, self.outputNodes)"
      ],
      "execution_count": 0,
      "outputs": []
    },
    {
      "cell_type": "markdown",
      "metadata": {
        "colab_type": "text",
        "id": "gbyT_FJ88IlK"
      },
      "source": [
        "### Randomly Initialize Weights\n",
        "How many random weights do we need to initialize? \"Fully-connected Layers\""
      ]
    },
    {
      "cell_type": "code",
      "metadata": {
        "colab_type": "code",
        "id": "IreIDe6P8H0H",
        "colab": {}
      },
      "source": [
        "nn = NeuralNetwork()"
      ],
      "execution_count": 0,
      "outputs": []
    },
    {
      "cell_type": "code",
      "metadata": {
        "id": "UCowcJ72bXDL",
        "colab_type": "code",
        "colab": {
          "base_uri": "https://localhost:8080/",
          "height": 136
        },
        "outputId": "d990fafc-c4e5-46a0-a140-8266fbbb8e56"
      },
      "source": [
        "print(\"Layer 1 weights: \\n\", nn.weights1)\n",
        "print(\"Layer 2 weights: \\n\", nn.weights2)"
      ],
      "execution_count": 5,
      "outputs": [
        {
          "output_type": "stream",
          "text": [
            "Layer 1 weights: \n",
            " [[ 2.48783189  0.11697987 -1.97118428]\n",
            " [-0.48325593 -1.50361209  0.57515126]]\n",
            "Layer 2 weights: \n",
            " [[-0.20672583]\n",
            " [ 0.41271104]\n",
            " [-0.57757999]]\n"
          ],
          "name": "stdout"
        }
      ]
    },
    {
      "cell_type": "markdown",
      "metadata": {
        "colab_type": "text",
        "id": "hbxDhyjQ-RwS"
      },
      "source": [
        "### Implement Feedforward Functionality\n",
        "\n",
        "After this step our neural network should be able to generate an output even though it has not been trained."
      ]
    },
    {
      "cell_type": "code",
      "metadata": {
        "colab_type": "code",
        "id": "0gGivpEk-VdP",
        "colab": {}
      },
      "source": [
        "class NeuralNetwork:\n",
        "    \n",
        "    def __init__(self):\n",
        "        # Set up Arch\n",
        "        self.inputs = 2\n",
        "        self.hiddenNodes = 3\n",
        "        self.outputNodes = 1\n",
        "        \n",
        "        # Initialize Weights\n",
        "        # 2x3\n",
        "        # Input to Hidden (1st set of weights)\n",
        "        self.weights1 = np.random.randn(self.inputs,self.hiddenNodes)\n",
        "        \n",
        "        # 3x1\n",
        "        # Hidden to Output (2nd set of weights)\n",
        "        self.weights2 = np.random.randn(self.hiddenNodes, self.outputNodes)\n",
        "        \n",
        "    def sigmoid(self, s):\n",
        "        return 1 / (1+np.exp(-s))\n",
        "    \n",
        "    def feed_forward(self, X):\n",
        "        \"\"\"\n",
        "        Calculate the NN inference using feed forward.\n",
        "        \"\"\"\n",
        "        \n",
        "        # Weighted Sum\n",
        "        self.hidden_sum = np.dot(X, self.weights1)\n",
        "        \n",
        "        # Activate\n",
        "        self.activated_hidden = self.sigmoid(self.hidden_sum)\n",
        "        \n",
        "        # Weighted sum of activated hidden (which output layer will use)\n",
        "        self.output_sum = np.dot(self.activated_hidden, self.weights2)\n",
        "        \n",
        "        # Final Activation of Output (My Predictions)\n",
        "        self.activated_output = self.sigmoid(self.output_sum)\n",
        "        \n",
        "        return self.activated_output"
      ],
      "execution_count": 0,
      "outputs": []
    },
    {
      "cell_type": "code",
      "metadata": {
        "id": "HKZTzT_xbXDS",
        "colab_type": "code",
        "colab": {
          "base_uri": "https://localhost:8080/",
          "height": 68
        },
        "outputId": "0275a8c2-6a9b-4e56-8e41-c62e2f79d1b3"
      },
      "source": [
        "X"
      ],
      "execution_count": 6,
      "outputs": [
        {
          "output_type": "execute_result",
          "data": {
            "text/plain": [
              "array([[0.66666667, 1.        ],\n",
              "       [0.33333333, 0.55555556],\n",
              "       [1.        , 0.66666667]])"
            ]
          },
          "metadata": {
            "tags": []
          },
          "execution_count": 6
        }
      ]
    },
    {
      "cell_type": "markdown",
      "metadata": {
        "colab_type": "text",
        "id": "a1pxdfmDAaJg"
      },
      "source": [
        "### Make a Prediction"
      ]
    },
    {
      "cell_type": "code",
      "metadata": {
        "id": "UiHb-E5ZbXDV",
        "colab_type": "code",
        "colab": {
          "base_uri": "https://localhost:8080/",
          "height": 51
        },
        "outputId": "2eb6823c-9a3d-4b60-e2b1-ce5a716afcf5"
      },
      "source": [
        "# Try to make a prediction with our updated 'net\n",
        "nn = NeuralNetwork()\n",
        "print(X[0])\n",
        "output = nn.feed_forward(X[0])\n",
        "print(\"output\", output)"
      ],
      "execution_count": 9,
      "outputs": [
        {
          "output_type": "stream",
          "text": [
            "[0.66666667 1.        ]\n",
            "output [0.29253885]\n"
          ],
          "name": "stdout"
        }
      ]
    },
    {
      "cell_type": "markdown",
      "metadata": {
        "colab_type": "text",
        "id": "3V61yNmAB2T5"
      },
      "source": [
        "### Calculate Error"
      ]
    },
    {
      "cell_type": "code",
      "metadata": {
        "id": "xoeSXh3koFvU",
        "colab_type": "code",
        "colab": {
          "base_uri": "https://localhost:8080/",
          "height": 34
        },
        "outputId": "dd6b8cf9-18ae-4346-a821-4cd0a6ffdb68"
      },
      "source": [
        "y[0]"
      ],
      "execution_count": 10,
      "outputs": [
        {
          "output_type": "execute_result",
          "data": {
            "text/plain": [
              "array([0.9])"
            ]
          },
          "metadata": {
            "tags": []
          },
          "execution_count": 10
        }
      ]
    },
    {
      "cell_type": "code",
      "metadata": {
        "id": "P3817ynTbXDZ",
        "colab_type": "code",
        "colab": {
          "base_uri": "https://localhost:8080/",
          "height": 34
        },
        "outputId": "5d7be51f-aaaf-4add-d0cb-e4c42c5898d4"
      },
      "source": [
        "error = y[0] - output\n",
        "error"
      ],
      "execution_count": 11,
      "outputs": [
        {
          "output_type": "execute_result",
          "data": {
            "text/plain": [
              "array([0.60746115])"
            ]
          },
          "metadata": {
            "tags": []
          },
          "execution_count": 11
        }
      ]
    },
    {
      "cell_type": "code",
      "metadata": {
        "id": "S9mEROPvbXDb",
        "colab_type": "code",
        "colab": {
          "base_uri": "https://localhost:8080/",
          "height": 119
        },
        "outputId": "d3769112-a26e-4218-f640-73319933c081"
      },
      "source": [
        "output_all = nn.feed_forward(X)\n",
        "error_all = y - output_all\n",
        "print(output_all)\n",
        "print(error_all)"
      ],
      "execution_count": 12,
      "outputs": [
        {
          "output_type": "stream",
          "text": [
            "[[0.29253885]\n",
            " [0.25386597]\n",
            " [0.26332573]]\n",
            "[[0.60746115]\n",
            " [0.46613403]\n",
            " [0.53667427]]\n"
          ],
          "name": "stdout"
        }
      ]
    },
    {
      "cell_type": "markdown",
      "metadata": {
        "colab_type": "text",
        "id": "26wgCLU0TLvy"
      },
      "source": [
        "Why is my error so big?\n",
        "\n",
        "My error is so big because my prediction is low.\n",
        "\n",
        "Why are my prediction low?\n",
        "\n",
        "Because either:\n",
        "\n",
        "  1) Second layer **weights** are low\n",
        "  \n",
        "  (or)\n",
        "  \n",
        "  2) Activations coming from the first layer are low\n",
        "  \n",
        "How are activations from the first layer determined? \n",
        "\n",
        "  1) By inputs - fixed\n",
        "  \n",
        "  2) by **weights** - variable\n",
        "  \n",
        "The only thing that I have control over throughout this process in order to increase the value of my final predictions is to either increase weights in layer 2 or increase weights in layer 1. \n",
        "\n",
        "Imagine that you could only change your weights by a fixed amount. Say you have .3 and you have to split that up and disperse it over your weights so as to increase your predictions as much as possible. (This isn't actually what happens, but it will help us identify which weights we would benefit the most from moving.)\n",
        "\n",
        "I need to increase weights of my model somewhere, I'll get the biggest bang for my buck if I increase weights in places where I'm already seeing high activation values -because they end up getting multiplied together before being passed to the sigmoid function. \n",
        "\n",
        "> \"Neurons that fire together, wire together\""
      ]
    },
    {
      "cell_type": "markdown",
      "metadata": {
        "colab_type": "text",
        "id": "j_eyzItYIxgm"
      },
      "source": [
        "### Implement Backpropagation \n",
        "\n",
        "> *Assigning blame for bad predictions and delivering justice - repeatedly and a little bit at a time*\n",
        "\n",
        "What in our model could be causing our predictions to suck so bad? \n",
        "\n",
        "Well, we know that our inputs (X) and outputs (y) are correct, if they weren't then we would have bigger problems than understanding backpropagation.\n",
        "\n",
        "We also know that our activation function (sigmoid) is working correctly. It can't be blamed because it just does whatever we tell it to and transforms the data in a known way.\n",
        "\n",
        "So what are the potential culprits for these terrible predictions? The **weights** of our model. Here's the problem though. I have weights that exist in both layers of my model. How do I know if the weights in the first layer are to blame, or the second layer, or both? \n",
        "\n",
        "Lets investigate. And see if we can just eyeball what should be updated."
      ]
    },
    {
      "cell_type": "code",
      "metadata": {
        "id": "3ZqzIYxpbXDe",
        "colab_type": "code",
        "colab": {
          "base_uri": "https://localhost:8080/",
          "height": 442
        },
        "outputId": "fba402b4-69fa-4fe5-f6ae-aa6d1730475b"
      },
      "source": [
        "attributes = ['weights1', 'hidden_sum', 'activated_hidden', 'weights2', 'activated_output']\n",
        "[print(i+'\\n', getattr(nn,i), '\\n'+'---'*3) for i in attributes if i[:2]!= '__'] "
      ],
      "execution_count": 13,
      "outputs": [
        {
          "output_type": "stream",
          "text": [
            "weights1\n",
            " [[ 0.96808324 -1.782362   -0.75408522]\n",
            " [-1.23115135  0.62890718  0.44526701]] \n",
            "---------\n",
            "hidden_sum\n",
            " [[-0.58576252 -0.55933416 -0.05745648]\n",
            " [-0.36127856 -0.24472779 -0.00399118]\n",
            " [ 0.14731567 -1.36309055 -0.45724055]] \n",
            "---------\n",
            "activated_hidden\n",
            " [[0.35760772 0.36370154 0.48563983]\n",
            " [0.4106501  0.43912159 0.49900221]\n",
            " [0.53676246 0.20373847 0.38764065]] \n",
            "---------\n",
            "weights2\n",
            " [[-1.78221311]\n",
            " [-1.43272971]\n",
            " [ 0.56695085]] \n",
            "---------\n",
            "activated_output\n",
            " [[0.29253885]\n",
            " [0.25386597]\n",
            " [0.26332573]] \n",
            "---------\n"
          ],
          "name": "stdout"
        },
        {
          "output_type": "execute_result",
          "data": {
            "text/plain": [
              "[None, None, None, None, None]"
            ]
          },
          "metadata": {
            "tags": []
          },
          "execution_count": 13
        }
      ]
    },
    {
      "cell_type": "markdown",
      "metadata": {
        "colab_type": "text",
        "id": "16Ujj6vNYQyX",
        "toc-hr-collapsed": true
      },
      "source": [
        "### Update Weights Based on Gradient\n",
        "\n",
        "Repeat steps 2-4 for every observation in a given batch, and then given the network's cost function, calculate its gradient using calculus and update weights associated with the (negative) gradient of the cost function. \n",
        "\n",
        "Remember that we have 9 weights in our network therefore the gradient that comes from our gradient descent calculation will be the vector that takes us in the most downward direction along some function in 9-dimensional hyperspace.\n",
        "\n",
        "\\begin{align}\n",
        "C(w1, w2, w3, w4, w5, w6, w7, w8, w9)\n",
        "\\end{align}\n",
        "\n",
        "You should also know that with neural networks it is common to have gradients that are not convex (like what we saw when we applied gradient descent to linear regression). Due to the high complexity of these models and their nonlinearity, it is common for gradient descent to get stuck in a local minimum, but there are ways to combat this:\n",
        "\n",
        "1) Stochastic Gradient Descent\n",
        "\n",
        "2) More advanced Gradient-Descent-based \"Optimizers\" - See Stretch Goals on assignment."
      ]
    },
    {
      "cell_type": "code",
      "metadata": {
        "id": "k-6tQoS0bXDh",
        "colab_type": "code",
        "colab": {}
      },
      "source": [
        "# I want activations that correspond to negative weights to be lower\n",
        "# and activations that correspond to positive weights to be higher\n",
        "\n",
        "class NeuralNetwork:\n",
        "    \n",
        "    def __init__(self):\n",
        "        # Set up Arch\n",
        "        self.inputs = 2\n",
        "        self.hiddenNodes = 3\n",
        "        self.outputNodes = 1\n",
        "        \n",
        "        # Initialize Weights\n",
        "        # 2x3\n",
        "        # Input to Hidden (1st set of weights)\n",
        "        self.weights1 = np.random.randn(self.inputs,self.hiddenNodes)\n",
        "        \n",
        "        # 3x1\n",
        "        # Hidden to Output (2nd set of weights)\n",
        "        self.weights2 = np.random.randn(self.hiddenNodes, self.outputNodes)\n",
        "        \n",
        "    def sigmoid(self, s):\n",
        "        return 1 / (1+np.exp(-s))\n",
        "    \n",
        "    def sigmoidPrime(self, s):\n",
        "        sx = self.sigmoid(s)\n",
        "        return sx * (1-sx)\n",
        "    \n",
        "    def feed_forward(self, X):\n",
        "        \"\"\"\n",
        "        Calculate the NN inference using feed forward.\n",
        "        \"\"\"\n",
        "        \n",
        "        # Weighted Sum\n",
        "        self.hidden_sum = np.dot(X, self.weights1)\n",
        "        \n",
        "        # Activate\n",
        "        self.activated_hidden = self.sigmoid(self.hidden_sum)\n",
        "        \n",
        "        # Weighted sum of activated hidden (which output layer will use)\n",
        "        self.output_sum = np.dot(self.activated_hidden, self.weights2)\n",
        "        \n",
        "        # Final Activation of Output (My Predictions)\n",
        "        self.activated_output = self.sigmoid(self.output_sum)\n",
        "        \n",
        "        return self.activated_output\n",
        "    \n",
        "    def backward(self, X, y, o):\n",
        "        \"\"\"\n",
        "        Back prop thru the network\n",
        "        \"\"\"\n",
        "        \n",
        "        self.o_error = y - o # Error in the output\n",
        "        \n",
        "        # Apply derivative of sigmoid to error\n",
        "        self.o_delta = self.o_error * self.sigmoidPrime(o)\n",
        "        \n",
        "        # z2 error: how much were our output layer weights off\n",
        "        self.z2_error = self.o_delta.dot(self.weights2.T)\n",
        "        \n",
        "        # z2 delta: how much were the weights off?\n",
        "        self.z2_delta = self.z2_error*self.sigmoidPrime(self.output_sum)\n",
        "\n",
        "        self.weights1 += X.T.dot(self.z2_delta) #Adjust first set (input => hidden) weights\n",
        "        self.weights2 += self.activated_hidden.T.dot(self.o_delta) #adjust second set (hidden => output) weights\n",
        "        \n",
        "    def train(self, X,y):\n",
        "        o = self.feed_forward(X)\n",
        "        self.backward(X,y,o)"
      ],
      "execution_count": 0,
      "outputs": []
    },
    {
      "cell_type": "markdown",
      "metadata": {
        "toc-hr-collapsed": true,
        "id": "gDjtD-8PbXDj",
        "colab_type": "text"
      },
      "source": [
        "#### Let's look at the shape of the Gradient Componets\n"
      ]
    },
    {
      "cell_type": "code",
      "metadata": {
        "id": "j1uXuQlUbXDj",
        "colab_type": "code",
        "colab": {}
      },
      "source": [
        "nn = NeuralNetwork()\n",
        "\n",
        "nn.train(X,y)"
      ],
      "execution_count": 0,
      "outputs": []
    },
    {
      "cell_type": "markdown",
      "metadata": {
        "id": "fucAEMHxbXDl",
        "colab_type": "text"
      },
      "source": [
        "##### Our Error Associated with Each Observation \n",
        "aka how wrong were we?"
      ]
    },
    {
      "cell_type": "code",
      "metadata": {
        "id": "yTp-AUGsbXDm",
        "colab_type": "code",
        "colab": {
          "base_uri": "https://localhost:8080/",
          "height": 68
        },
        "outputId": "a068119e-95e7-45d1-9c51-1c7d588b5bfa"
      },
      "source": [
        "nn.o_error"
      ],
      "execution_count": 17,
      "outputs": [
        {
          "output_type": "execute_result",
          "data": {
            "text/plain": [
              "array([[0.52228666],\n",
              "       [0.30522145],\n",
              "       [0.39651516]])"
            ]
          },
          "metadata": {
            "tags": []
          },
          "execution_count": 17
        }
      ]
    },
    {
      "cell_type": "markdown",
      "metadata": {
        "id": "dzYd36tIbXDp",
        "colab_type": "text"
      },
      "source": [
        "##### 1st Gradient \n",
        "Simple interpretation - how much more sigmoid activation would have pushed us towards the right answer?\n",
        "\n",
        "`self.o_delta = self.o_error * self.sigmoidPrime(self.output_sum)`"
      ]
    },
    {
      "cell_type": "code",
      "metadata": {
        "id": "q6CvwXk9bXDp",
        "colab_type": "code",
        "colab": {
          "base_uri": "https://localhost:8080/",
          "height": 68
        },
        "outputId": "6b69e8c2-39ad-4f6e-e9e8-f0b9e3f69a39"
      },
      "source": [
        "nn.o_delta"
      ],
      "execution_count": 18,
      "outputs": [
        {
          "output_type": "execute_result",
          "data": {
            "text/plain": [
              "array([[0.12602312],\n",
              "       [0.07311531],\n",
              "       [0.09520125]])"
            ]
          },
          "metadata": {
            "tags": []
          },
          "execution_count": 18
        }
      ]
    },
    {
      "cell_type": "markdown",
      "metadata": {
        "id": "ns-2TKk1bXDr",
        "colab_type": "text"
      },
      "source": [
        "Let's take a look at the derivate of the sigmoid function to understand what's happening. "
      ]
    },
    {
      "cell_type": "code",
      "metadata": {
        "id": "w1WYH1WibXDr",
        "colab_type": "code",
        "colab": {}
      },
      "source": [
        "import matplotlib.pyplot as plt\n",
        "\n",
        "line_x = np.arange(-5, 5, 0.01)\n",
        "\n",
        "def sigmoid(x):\n",
        "    return 1 / (1+ np.exp(-x))\n",
        "\n",
        "def sigmoid_derivative(x):\n",
        "    sx = sigmoid(x)\n",
        "    return sx * (1-sx)\n",
        "\n",
        "# sigmoid\n",
        "y = sigmoid(line_x)\n",
        "y_d = sigmoid_derivative(line_x)\n",
        "\n",
        "x = nn.output_sum\n",
        "s = sigmoid(x)\n",
        "sx = sigmoid_derivative(x)"
      ],
      "execution_count": 0,
      "outputs": []
    },
    {
      "cell_type": "code",
      "metadata": {
        "id": "x926-sUbbXDt",
        "colab_type": "code",
        "colab": {
          "base_uri": "https://localhost:8080/",
          "height": 331
        },
        "outputId": "da0e493d-9f8e-4069-93a4-bda651f0a309"
      },
      "source": [
        "# call regplot on each axes\n",
        "import seaborn as sns\n",
        "plt.style.use('seaborn-darkgrid')\n",
        "fig, (ax1, ax2) = plt.subplots(ncols=2, sharey=True, figsize=(15,5))\n",
        "sns.lineplot(x=line_x, y=y, ax=ax1)\n",
        "ax1.plot(x[1], s[1], 'ro')\n",
        "ax1.set_title(\"Sigmoid of Weighted Sum\")\n",
        "sns.lineplot(x=line_x, y=y_d, ax=ax2) \n",
        "ax2.plot(x[1],sx[1],'ro');\n",
        "ax2.set_title(\"Sigmoid Derivative of Weighted Sum\");"
      ],
      "execution_count": 21,
      "outputs": [
        {
          "output_type": "display_data",
          "data": {
            "image/png": "[encoded data removed]",
            "text/plain": [
              "<Figure size 1080x360 with 2 Axes>"
            ]
          },
          "metadata": {
            "tags": []
          }
        }
      ]
    },
    {
      "cell_type": "markdown",
      "metadata": {
        "id": "_OMTfPkebXDv",
        "colab_type": "text"
      },
      "source": [
        "Look at the derivate graph. The derivative multiplied by the error tells us where to assign blame and update the weights most effective. "
      ]
    },
    {
      "cell_type": "markdown",
      "metadata": {
        "id": "oHvzDoMEbXDw",
        "colab_type": "text"
      },
      "source": [
        "##### 2nd Error\n",
        "Justice hasn't been served yet - tho. We still have neurons to blame. Let's go back another layer. \n",
        "\n",
        "`self.z2_error = self.o_delta.dot(self.weights2.T)`\n",
        "\n",
        "__Discussion:__ Why is this shape different?"
      ]
    },
    {
      "cell_type": "code",
      "metadata": {
        "id": "bfN_I5-ebXDw",
        "colab_type": "code",
        "colab": {
          "base_uri": "https://localhost:8080/",
          "height": 68
        },
        "outputId": "c7852ac9-2c7b-4baa-81e0-dcf83401daca"
      },
      "source": [
        "nn.o_delta.dot(nn.weights2.T)"
      ],
      "execution_count": 22,
      "outputs": [
        {
          "output_type": "execute_result",
          "data": {
            "text/plain": [
              "array([[ 0.11816637, -0.11602622,  0.03300763],\n",
              "       [ 0.06855702, -0.06731537,  0.01915016],\n",
              "       [ 0.08926604, -0.08764932,  0.02493485]])"
            ]
          },
          "metadata": {
            "tags": []
          },
          "execution_count": 22
        }
      ]
    },
    {
      "cell_type": "markdown",
      "metadata": {
        "id": "t6iTZXrnbXDy",
        "colab_type": "text"
      },
      "source": [
        "##### 2nd Gradient\n",
        "For each observation, how much more sigmoid activation from this layer would have pushed us towards the right answer?\n",
        "\n",
        "`self.z2_delta = self.z2_error * self.sigmoidPrime(self.activated_hidden)`"
      ]
    },
    {
      "cell_type": "code",
      "metadata": {
        "id": "DSWT6gNqbXDy",
        "colab_type": "code",
        "colab": {
          "base_uri": "https://localhost:8080/",
          "height": 68
        },
        "outputId": "cd866675-64fc-413a-e9eb-aa6ec9d1db98"
      },
      "source": [
        "nn.z2_delta"
      ],
      "execution_count": 23,
      "outputs": [
        {
          "output_type": "execute_result",
          "data": {
            "text/plain": [
              "array([[ 0.0240459 , -0.03359246,  0.00235685],\n",
              "       [ 0.01440731, -0.02012721,  0.00141213],\n",
              "       [ 0.0186007 , -0.02598544,  0.00182314]])"
            ]
          },
          "metadata": {
            "tags": []
          },
          "execution_count": 23
        }
      ]
    },
    {
      "cell_type": "code",
      "metadata": {
        "id": "Yt_u23FnbXD4",
        "colab_type": "code",
        "colab": {
          "base_uri": "https://localhost:8080/",
          "height": 34
        },
        "outputId": "3453abc7-df8e-4a42-8761-a5743ccb3552"
      },
      "source": [
        "X.T.shape == nn.weights1.shape"
      ],
      "execution_count": 24,
      "outputs": [
        {
          "output_type": "execute_result",
          "data": {
            "text/plain": [
              "True"
            ]
          },
          "metadata": {
            "tags": []
          },
          "execution_count": 24
        }
      ]
    },
    {
      "cell_type": "code",
      "metadata": {
        "id": "-eWdUOSMbXD7",
        "colab_type": "code",
        "colab": {},
        "outputId": "6a8c6616-6e24-4249-ce56-166f79b21f0f"
      },
      "source": [
        ""
      ],
      "execution_count": 0,
      "outputs": [
        {
          "output_type": "execute_result",
          "data": {
            "text/plain": [
              "array([[0.66666667, 1.        ],\n",
              "       [0.33333333, 0.55555556],\n",
              "       [1.        , 0.66666667]])"
            ]
          },
          "metadata": {
            "tags": []
          },
          "execution_count": 44
        }
      ]
    },
    {
      "cell_type": "markdown",
      "metadata": {
        "id": "qD22bGr7bXD9",
        "colab_type": "text"
      },
      "source": [
        "##### Descent\n",
        "\n",
        "*Discussion:* Input to Hidden Weight Update\n",
        "- We multiply the gradient by the inputs. Why?\n",
        "- Why do we need to transpose the inputs? "
      ]
    },
    {
      "cell_type": "code",
      "metadata": {
        "id": "b5P3NFbhbXD9",
        "colab_type": "code",
        "colab": {
          "base_uri": "https://localhost:8080/",
          "height": 51
        },
        "outputId": "a35b3815-e3d0-452c-abbf-7b7ec0b11ea1"
      },
      "source": [
        "X.T"
      ],
      "execution_count": 25,
      "outputs": [
        {
          "output_type": "execute_result",
          "data": {
            "text/plain": [
              "array([[0.66666667, 0.33333333, 1.        ],\n",
              "       [1.        , 0.55555556, 0.66666667]])"
            ]
          },
          "metadata": {
            "tags": []
          },
          "execution_count": 25
        }
      ]
    },
    {
      "cell_type": "code",
      "metadata": {
        "id": "W9bh1NfcbXD_",
        "colab_type": "code",
        "colab": {
          "base_uri": "https://localhost:8080/",
          "height": 51
        },
        "outputId": "08a39c7c-ebcb-4f74-9377-e358d5fea524"
      },
      "source": [
        "X.T.dot(nn.z2_delta)"
      ],
      "execution_count": 26,
      "outputs": [
        {
          "output_type": "execute_result",
          "data": {
            "text/plain": [
              "array([[ 0.03943374, -0.05508949,  0.00386508],\n",
              "       [ 0.04445043, -0.06209788,  0.00435679]])"
            ]
          },
          "metadata": {
            "tags": []
          },
          "execution_count": 26
        }
      ]
    },
    {
      "cell_type": "markdown",
      "metadata": {
        "id": "GB1GxihqbXEA",
        "colab_type": "text"
      },
      "source": [
        "*Discussion:* Hidden to Output Weight Update\n",
        "- Why is output the shape 3x1? \n",
        "- We multiply the gradient by the inputs. Why?\n",
        "- Why do we need to transpose the inputs?"
      ]
    },
    {
      "cell_type": "code",
      "metadata": {
        "id": "CXzo6jN8bXEB",
        "colab_type": "code",
        "colab": {
          "base_uri": "https://localhost:8080/",
          "height": 68
        },
        "outputId": "d62a369b-1523-4b12-a1a5-17ffd16e1dfa"
      },
      "source": [
        "nn.activated_hidden.T.dot(nn.o_delta)"
      ],
      "execution_count": 27,
      "outputs": [
        {
          "output_type": "execute_result",
          "data": {
            "text/plain": [
              "array([[0.12587682],\n",
              "       [0.21339318],\n",
              "       [0.18235102]])"
            ]
          },
          "metadata": {
            "tags": []
          },
          "execution_count": 27
        }
      ]
    },
    {
      "cell_type": "markdown",
      "metadata": {
        "id": "CbuwsmiEbXED",
        "colab_type": "text"
      },
      "source": [
        "### Train the Network (fo real this time)"
      ]
    },
    {
      "cell_type": "code",
      "metadata": {
        "id": "O0HitGJdbXED",
        "colab_type": "code",
        "colab": {
          "base_uri": "https://localhost:8080/",
          "height": 1000
        },
        "outputId": "7252e06c-a63b-4c01-f600-9de7386d2cc0"
      },
      "source": [
        "# Train my 'net\n",
        "nn = NeuralNetwork()\n",
        "\n",
        "# Number of Epochs / Iterations\n",
        "for i in range(5000):\n",
        "    if (i+1 in [1,2,3,4,5]) or ((i+1) % 500 ==0):\n",
        "        print('+' + '---' * 3 + f'EPOCH {i+1}' + '---'*3 + '+')\n",
        "        print('Input: \\n', X)\n",
        "        print('Actual Output: \\n', y)\n",
        "        print('Predicted Output: \\n', str(nn.feed_forward(X)))\n",
        "        print(\"Loss: \\n\", str(np.mean(np.square(y - nn.feed_forward(X)))))\n",
        "    nn.train(X,y)"
      ],
      "execution_count": 28,
      "outputs": [
        {
          "output_type": "stream",
          "text": [
            "+---------EPOCH 1---------+\n",
            "Input: \n",
            " [[0.66666667 1.        ]\n",
            " [0.33333333 0.55555556]\n",
            " [1.         0.66666667]]\n",
            "Actual Output: \n",
            " [0.00669285 0.00675966 0.00682713 0.00689527 0.00696409 0.00703359\n",
            " 0.00710377 0.00717466 0.00724624 0.00731853 0.00739154 0.00746527\n",
            " 0.00753973 0.00761493 0.00769088 0.00776757 0.00784502 0.00792324\n",
            " 0.00800223 0.00808201 0.00816257 0.00824393 0.00832609 0.00840907\n",
            " 0.00849286 0.00857749 0.00866294 0.00874925 0.0088364  0.00892442\n",
            " 0.0090133  0.00910306 0.00919371 0.00928525 0.00937769 0.00947104\n",
            " 0.00956532 0.00966052 0.00975667 0.00985376 0.0099518  0.01005081\n",
            " 0.0101508  0.01025177 0.01035374 0.01045671 0.01056069 0.01066569\n",
            " 0.01077173 0.01087881 0.01098694 0.01109614 0.01120641 0.01131776\n",
            " 0.0114302  0.01154375 0.01165842 0.01177421 0.01189113 0.0120092\n",
            " 0.01212843 0.01224883 0.01237041 0.01249319 0.01261716 0.01274235\n",
            " 0.01286876 0.01299642 0.01312532 0.01325548 0.01338692 0.01351964\n",
            " 0.01365366 0.01378899 0.01392564 0.01406363 0.01420296 0.01434366\n",
            " 0.01448572 0.01462918 0.01477403 0.0149203  0.01506799 0.01521712\n",
            " 0.01536771 0.01551976 0.01567329 0.01582831 0.01598485 0.01614291\n",
            " 0.0163025  0.01646364 0.01662636 0.01679065 0.01695654 0.01712403\n",
            " 0.01729316 0.01746392 0.01763634 0.01781043 0.01798621 0.01816369\n",
            " 0.01834289 0.01852382 0.01870651 0.01889096 0.0190772  0.01926523\n",
            " 0.01945508 0.01964677 0.01984031 0.02003571 0.020233   0.02043219\n",
            " 0.0206333  0.02083634 0.02104135 0.02124832 0.02145729 0.02166827\n",
            " 0.02188127 0.02209632 0.02231344 0.02253264 0.02275394 0.02297737\n",
            " 0.02320294 0.02343067 0.02366058 0.02389269 0.02412702 0.02436359\n",
            " 0.02460243 0.02484354 0.02508696 0.0253327  0.02558079 0.02583124\n",
            " 0.02608408 0.02633932 0.02659699 0.02685712 0.02711972 0.02738481\n",
            " 0.02765242 0.02792257 0.02819529 0.02847059 0.0287485  0.02902904\n",
            " 0.02931223 0.0295981  0.02988668 0.03017798 0.03047203 0.03076886\n",
            " 0.03106848 0.03137093 0.03167623 0.0319844  0.03229546 0.03260946\n",
            " 0.03292639 0.03324631 0.03356922 0.03389516 0.03422416 0.03455623\n",
            " 0.03489141 0.03522972 0.03557119 0.03591585 0.03626372 0.03661483\n",
            " 0.03696921 0.03732689 0.03768789 0.03805225 0.03841999 0.03879113\n",
            " 0.03916572 0.03954378 0.03992533 0.04031042 0.04069905 0.04109128\n",
            " 0.04148712 0.04188661 0.04228977 0.04269664 0.04310725 0.04352163\n",
            " 0.04393982 0.04436183 0.0447877  0.04521747 0.04565117 0.04608883\n",
            " 0.04653047 0.04697615 0.04742587 0.04787969 0.04833763 0.04879972\n",
            " 0.04926601 0.04973651 0.05021127 0.05069032 0.0511737  0.05166144\n",
            " 0.05215356 0.05265012 0.05315114 0.05365665 0.0541667  0.05468132\n",
            " 0.05520054 0.0557244  0.05625293 0.05678618 0.05732418 0.05786696\n",
            " 0.05841456 0.05896701 0.05952437 0.06008665 0.0606539  0.06122616\n",
            " 0.06180347 0.06238585 0.06297336 0.06356602 0.06416388 0.06476697\n",
            " 0.06537533 0.06598901 0.06660804 0.06723245 0.06786229 0.0684976\n",
            " 0.06913842 0.06978478 0.07043673 0.0710943  0.07175754 0.07242649\n",
            " 0.07310117 0.07378165 0.07446795 0.07516011 0.07585818 0.0765622\n",
            " 0.0772722  0.07798824 0.07871034 0.07943855 0.08017291 0.08091347\n",
            " 0.08166026 0.08241332 0.0831727  0.08393843 0.08471057 0.08548914\n",
            " 0.08627419 0.08706577 0.08786391 0.08866866 0.08948006 0.09029814\n",
            " 0.09112296 0.09195455 0.09279295 0.09363821 0.09449037 0.09534946\n",
            " 0.09621554 0.09708864 0.0979688  0.09885607 0.09975049 0.10065209\n",
            " 0.10156093 0.10247703 0.10340045 0.10433122 0.10526939 0.10621499\n",
            " 0.10716807 0.10812867 0.10909682 0.11007257 0.11105597 0.11204704\n",
            " 0.11304583 0.11405238 0.11506673 0.11608892 0.11711899 0.11815698\n",
            " 0.11920292 0.12025686 0.12131884 0.12238889 0.12346705 0.12455336\n",
            " 0.12564786 0.12675058 0.12786157 0.12898085 0.13010847 0.13124447\n",
            " 0.13238887 0.13354172 0.13470305 0.1358729  0.13705129 0.13823827\n",
            " 0.13943387 0.14063813 0.14185106 0.14307272 0.14430313 0.14554233\n",
            " 0.14679034 0.1480472  0.14931293 0.15058758 0.15187116 0.15316372\n",
            " 0.15446527 0.15577584 0.15709547 0.15842418 0.159762   0.16110895\n",
            " 0.16246506 0.16383036 0.16520487 0.16658861 0.16798161 0.1693839\n",
            " 0.17079548 0.17221639 0.17364665 0.17508627 0.17653527 0.17799369\n",
            " 0.17946152 0.18093879 0.18242552 0.18392173 0.18542742 0.18694261\n",
            " 0.18846733 0.19000157 0.19154535 0.19309868 0.19466158 0.19623406\n",
            " 0.19781611 0.19940776 0.201009   0.20261985 0.2042403  0.20587037\n",
            " 0.20751006 0.20915937 0.21081829 0.21248684 0.21416502 0.21585281\n",
            " 0.21755022 0.21925725 0.22097389 0.22270014 0.22443599 0.22618143\n",
            " 0.22793645 0.22970105 0.23147522 0.23325894 0.2350522  0.23685498\n",
            " 0.23866729 0.24048908 0.24232036 0.2441611  0.24601128 0.24787089\n",
            " 0.24973989 0.25161828 0.25350602 0.25540308 0.25730945 0.2592251\n",
            " 0.26114999 0.2630841  0.2650274  0.26697985 0.26894142 0.27091208\n",
            " 0.27289178 0.2748805  0.27687819 0.27888482 0.28090034 0.28292471\n",
            " 0.28495789 0.28699984 0.2890505  0.29110983 0.29317778 0.2952543\n",
            " 0.29733935 0.29943286 0.30153478 0.30364507 0.30576366 0.3078905\n",
            " 0.31002552 0.31216867 0.31431989 0.31647911 0.31864627 0.3208213\n",
            " 0.32300414 0.32519473 0.32739298 0.32959884 0.33181223 0.33403307\n",
            " 0.3362613  0.33849684 0.34073961 0.34298954 0.34524654 0.34751054\n",
            " 0.34978145 0.3520592  0.35434369 0.35663485 0.35893259 0.36123682\n",
            " 0.36354746 0.36586441 0.36818758 0.37051689 0.37285223 0.37519353\n",
            " 0.37754067 0.37989357 0.38225213 0.38461624 0.38698582 0.38936077\n",
            " 0.39174097 0.39412633 0.39651675 0.39891212 0.40131234 0.4037173\n",
            " 0.4061269  0.40854102 0.41095957 0.41338242 0.41580948 0.41824062\n",
            " 0.42067575 0.42311474 0.42555748 0.42800387 0.43045378 0.4329071\n",
            " 0.43536371 0.4378235  0.44028635 0.44275215 0.44522076 0.44769209\n",
            " 0.450166   0.45264238 0.45512111 0.45760206 0.46008512 0.46257015\n",
            " 0.46505705 0.46754569 0.47003595 0.4725277  0.47502081 0.47751518\n",
            " 0.48001066 0.48250714 0.4850045  0.4875026  0.49000133 0.49250056\n",
            " 0.49500017 0.49750002 0.5        0.50249998 0.50499983 0.50749944\n",
            " 0.50999867 0.5124974  0.5149955  0.51749286 0.51998934 0.52248482\n",
            " 0.52497919 0.5274723  0.52996405 0.53245431 0.53494295 0.53742985\n",
            " 0.53991488 0.54239794 0.54487889 0.54735762 0.549834   0.55230791\n",
            " 0.55477924 0.55724785 0.55971365 0.5621765  0.56463629 0.5670929\n",
            " 0.56954622 0.57199613 0.57444252 0.57688526 0.57932425 0.58175938\n",
            " 0.58419052 0.58661758 0.58904043 0.59145898 0.5938731  0.5962827\n",
            " 0.59868766 0.60108788 0.60348325 0.60587367 0.60825903 0.61063923\n",
            " 0.61301418 0.61538376 0.61774787 0.62010643 0.62245933 0.62480647\n",
            " 0.62714777 0.62948311 0.63181242 0.63413559 0.63645254 0.63876318\n",
            " 0.64106741 0.64336515 0.64565631 0.6479408  0.65021855 0.65248946\n",
            " 0.65475346 0.65701046 0.65926039 0.66150316 0.6637387  0.66596693\n",
            " 0.66818777 0.67040116 0.67260702 0.67480527 0.67699586 0.6791787\n",
            " 0.68135373 0.68352089 0.68568011 0.68783133 0.68997448 0.6921095\n",
            " 0.69423634 0.69635493 0.69846522 0.70056714 0.70266065 0.7047457\n",
            " 0.70682222 0.70889017 0.7109495  0.71300016 0.71504211 0.71707529\n",
            " 0.71909966 0.72111518 0.72312181 0.7251195  0.72710822 0.72908792\n",
            " 0.73105858 0.73302015 0.7349726  0.7369159  0.73885001 0.7407749\n",
            " 0.74269055 0.74459692 0.74649398 0.74838172 0.75026011 0.75212911\n",
            " 0.75398872 0.7558389  0.75767964 0.75951092 0.76133271 0.76314502\n",
            " 0.7649478  0.76674106 0.76852478 0.77029895 0.77206355 0.77381857\n",
            " 0.77556401 0.77729986 0.77902611 0.78074275 0.78244978 0.78414719\n",
            " 0.78583498 0.78751316 0.78918171 0.79084063 0.79248994 0.79412963\n",
            " 0.7957597  0.79738015 0.798991   0.80059224 0.80218389 0.80376594\n",
            " 0.80533842 0.80690132 0.80845465 0.80999843 0.81153267 0.81305739\n",
            " 0.81457258 0.81607827 0.81757448 0.81906121 0.82053848 0.82200631\n",
            " 0.82346473 0.82491373 0.82635335 0.82778361 0.82920452 0.8306161\n",
            " 0.83201839 0.83341139 0.83479513 0.83616964 0.83753494 0.83889105\n",
            " 0.840238   0.84157582 0.84290453 0.84422416 0.84553473 0.84683628\n",
            " 0.84812884 0.84941242 0.85068707 0.8519528  0.85320966 0.85445767\n",
            " 0.85569687 0.85692728 0.85814894 0.85936187 0.86056613 0.86176173\n",
            " 0.86294871 0.8641271  0.86529695 0.86645828 0.86761113 0.86875553\n",
            " 0.86989153 0.87101915 0.87213843 0.87324942 0.87435214 0.87544664\n",
            " 0.87653295 0.87761111 0.87868116 0.87974314 0.88079708 0.88184302\n",
            " 0.88288101 0.88391108 0.88493327 0.88594762 0.88695417 0.88795296\n",
            " 0.88894403 0.88992743 0.89090318 0.89187133 0.89283193 0.89378501\n",
            " 0.89473061 0.89566878 0.89659955 0.89752297 0.89843907 0.89934791\n",
            " 0.90024951 0.90114393 0.9020312  0.90291136 0.90378446 0.90465054\n",
            " 0.90550963 0.90636179 0.90720705 0.90804545 0.90887704 0.90970186\n",
            " 0.91051994 0.91133134 0.91213609 0.91293423 0.91372581 0.91451086\n",
            " 0.91528943 0.91606157 0.9168273  0.91758668 0.91833974 0.91908653\n",
            " 0.91982709 0.92056145 0.92128966 0.92201176 0.9227278  0.9234378\n",
            " 0.92414182 0.92483989 0.92553205 0.92621835 0.92689883 0.92757351\n",
            " 0.92824246 0.9289057  0.92956327 0.93021522 0.93086158 0.9315024\n",
            " 0.93213771 0.93276755 0.93339196 0.93401099 0.93462467 0.93523303\n",
            " 0.93583612 0.93643398 0.93702664 0.93761415 0.93819653 0.93877384\n",
            " 0.9393461  0.93991335 0.94047563 0.94103299 0.94158544 0.94213304\n",
            " 0.94267582 0.94321382 0.94374707 0.9442756  0.94479946 0.94531868\n",
            " 0.9458333  0.94634335 0.94684886 0.94734988 0.94784644 0.94833856\n",
            " 0.9488263  0.94930968 0.94978873 0.95026349 0.95073399 0.95120028\n",
            " 0.95166237 0.95212031 0.95257413 0.95302385 0.95346953 0.95391117\n",
            " 0.95434883 0.95478253 0.9552123  0.95563817 0.95606018 0.95647837\n",
            " 0.95689275 0.95730336 0.95771023 0.95811339 0.95851288 0.95890872\n",
            " 0.95930095 0.95968958 0.96007467 0.96045622 0.96083428 0.96120887\n",
            " 0.96158001 0.96194775 0.96231211 0.96267311 0.96303079 0.96338517\n",
            " 0.96373628 0.96408415 0.96442881 0.96477028 0.96510859 0.96544377\n",
            " 0.96577584 0.96610484 0.96643078 0.96675369 0.96707361 0.96739054\n",
            " 0.96770454 0.9680156  0.96832377 0.96862907 0.96893152 0.96923114\n",
            " 0.96952797 0.96982202 0.97011332 0.9704019  0.97068777 0.97097096\n",
            " 0.9712515  0.97152941 0.97180471 0.97207743 0.97234758 0.97261519\n",
            " 0.97288028 0.97314288 0.97340301 0.97366068 0.97391592 0.97416876\n",
            " 0.97441921 0.9746673  0.97491304 0.97515646 0.97539757 0.97563641\n",
            " 0.97587298 0.97610731 0.97633942 0.97656933 0.97679706 0.97702263\n",
            " 0.97724606 0.97746736 0.97768656 0.97790368 0.97811873 0.97833173\n",
            " 0.97854271 0.97875168 0.97895865 0.97916366 0.9793667  0.97956781\n",
            " 0.979767   0.97996429 0.98015969 0.98035323 0.98054492 0.98073477\n",
            " 0.9809228  0.98110904 0.98129349 0.98147618 0.98165711 0.98183631\n",
            " 0.98201379 0.98218957 0.98236366 0.98253608 0.98270684 0.98287597\n",
            " 0.98304346 0.98320935 0.98337364 0.98353636 0.9836975  0.98385709\n",
            " 0.98401515 0.98417169 0.98432671 0.98448024 0.98463229 0.98478288\n",
            " 0.98493201 0.9850797  0.98522597 0.98537082 0.98551428 0.98565634\n",
            " 0.98579704 0.98593637 0.98607436 0.98621101 0.98634634 0.98648036\n",
            " 0.98661308 0.98674452 0.98687468 0.98700358 0.98713124 0.98725765\n",
            " 0.98738284 0.98750681 0.98762959 0.98775117 0.98787157 0.9879908\n",
            " 0.98810887 0.98822579 0.98834158 0.98845625 0.9885698  0.98868224\n",
            " 0.98879359 0.98890386 0.98901306 0.98912119 0.98922827 0.98933431\n",
            " 0.98943931 0.98954329 0.98964626 0.98974823 0.9898492  0.98994919\n",
            " 0.9900482  0.99014624 0.99024333 0.99033948 0.99043468 0.99052896\n",
            " 0.99062231 0.99071475 0.99080629 0.99089694 0.9909867  0.99107558\n",
            " 0.9911636  0.99125075 0.99133706 0.99142251 0.99150714 0.99159093\n",
            " 0.99167391 0.99175607 0.99183743 0.99191799 0.99199777 0.99207676\n",
            " 0.99215498 0.99223243 0.99230912 0.99238507 0.99246027 0.99253473\n",
            " 0.99260846 0.99268147 0.99275376 0.99282534 0.99289623 0.99296641\n",
            " 0.99303591 0.99310473 0.99317287 0.99324034]\n",
            "Predicted Output: \n",
            " [[0.73733449]\n",
            " [0.75875845]\n",
            " [0.75936043]]\n",
            "Loss: \n",
            " 0.21510416912938418\n"
          ],
          "name": "stdout"
        },
        {
          "output_type": "error",
          "ename": "ValueError",
          "evalue": "ignored",
          "traceback": [
            "\u001b[0;31m---------------------------------------------------------------------------\u001b[0m",
            "\u001b[0;31mValueError\u001b[0m                                Traceback (most recent call last)",
            "\u001b[0;32m<ipython-input-28-43ce104233e4>\u001b[0m in \u001b[0;36m<module>\u001b[0;34m()\u001b[0m\n\u001b[1;32m      9\u001b[0m         \u001b[0mprint\u001b[0m\u001b[0;34m(\u001b[0m\u001b[0;34m'Predicted Output: \\n'\u001b[0m\u001b[0;34m,\u001b[0m \u001b[0mstr\u001b[0m\u001b[0;34m(\u001b[0m\u001b[0mnn\u001b[0m\u001b[0;34m.\u001b[0m\u001b[0mfeed_forward\u001b[0m\u001b[0;34m(\u001b[0m\u001b[0mX\u001b[0m\u001b[0;34m)\u001b[0m\u001b[0;34m)\u001b[0m\u001b[0;34m)\u001b[0m\u001b[0;34m\u001b[0m\u001b[0;34m\u001b[0m\u001b[0m\n\u001b[1;32m     10\u001b[0m         \u001b[0mprint\u001b[0m\u001b[0;34m(\u001b[0m\u001b[0;34m\"Loss: \\n\"\u001b[0m\u001b[0;34m,\u001b[0m \u001b[0mstr\u001b[0m\u001b[0;34m(\u001b[0m\u001b[0mnp\u001b[0m\u001b[0;34m.\u001b[0m\u001b[0mmean\u001b[0m\u001b[0;34m(\u001b[0m\u001b[0mnp\u001b[0m\u001b[0;34m.\u001b[0m\u001b[0msquare\u001b[0m\u001b[0;34m(\u001b[0m\u001b[0my\u001b[0m \u001b[0;34m-\u001b[0m \u001b[0mnn\u001b[0m\u001b[0;34m.\u001b[0m\u001b[0mfeed_forward\u001b[0m\u001b[0;34m(\u001b[0m\u001b[0mX\u001b[0m\u001b[0;34m)\u001b[0m\u001b[0;34m)\u001b[0m\u001b[0;34m)\u001b[0m\u001b[0;34m)\u001b[0m\u001b[0;34m)\u001b[0m\u001b[0;34m\u001b[0m\u001b[0;34m\u001b[0m\u001b[0m\n\u001b[0;32m---> 11\u001b[0;31m     \u001b[0mnn\u001b[0m\u001b[0;34m.\u001b[0m\u001b[0mtrain\u001b[0m\u001b[0;34m(\u001b[0m\u001b[0mX\u001b[0m\u001b[0;34m,\u001b[0m\u001b[0my\u001b[0m\u001b[0;34m)\u001b[0m\u001b[0;34m\u001b[0m\u001b[0;34m\u001b[0m\u001b[0m\n\u001b[0m",
            "\u001b[0;32m<ipython-input-15-b6289b5fe4cf>\u001b[0m in \u001b[0;36mtrain\u001b[0;34m(self, X, y)\u001b[0m\n\u001b[1;32m     64\u001b[0m     \u001b[0;32mdef\u001b[0m \u001b[0mtrain\u001b[0m\u001b[0;34m(\u001b[0m\u001b[0mself\u001b[0m\u001b[0;34m,\u001b[0m \u001b[0mX\u001b[0m\u001b[0;34m,\u001b[0m\u001b[0my\u001b[0m\u001b[0;34m)\u001b[0m\u001b[0;34m:\u001b[0m\u001b[0;34m\u001b[0m\u001b[0;34m\u001b[0m\u001b[0m\n\u001b[1;32m     65\u001b[0m         \u001b[0mo\u001b[0m \u001b[0;34m=\u001b[0m \u001b[0mself\u001b[0m\u001b[0;34m.\u001b[0m\u001b[0mfeed_forward\u001b[0m\u001b[0;34m(\u001b[0m\u001b[0mX\u001b[0m\u001b[0;34m)\u001b[0m\u001b[0;34m\u001b[0m\u001b[0;34m\u001b[0m\u001b[0m\n\u001b[0;32m---> 66\u001b[0;31m         \u001b[0mself\u001b[0m\u001b[0;34m.\u001b[0m\u001b[0mbackward\u001b[0m\u001b[0;34m(\u001b[0m\u001b[0mX\u001b[0m\u001b[0;34m,\u001b[0m\u001b[0my\u001b[0m\u001b[0;34m,\u001b[0m\u001b[0mo\u001b[0m\u001b[0;34m)\u001b[0m\u001b[0;34m\u001b[0m\u001b[0;34m\u001b[0m\u001b[0m\n\u001b[0m",
            "\u001b[0;32m<ipython-input-15-b6289b5fe4cf>\u001b[0m in \u001b[0;36mbackward\u001b[0;34m(self, X, y, o)\u001b[0m\n\u001b[1;32m     54\u001b[0m \u001b[0;34m\u001b[0m\u001b[0m\n\u001b[1;32m     55\u001b[0m         \u001b[0;31m# z2 error: how much were our output layer weights off\u001b[0m\u001b[0;34m\u001b[0m\u001b[0;34m\u001b[0m\u001b[0;34m\u001b[0m\u001b[0m\n\u001b[0;32m---> 56\u001b[0;31m         \u001b[0mself\u001b[0m\u001b[0;34m.\u001b[0m\u001b[0mz2_error\u001b[0m \u001b[0;34m=\u001b[0m \u001b[0mself\u001b[0m\u001b[0;34m.\u001b[0m\u001b[0mo_delta\u001b[0m\u001b[0;34m.\u001b[0m\u001b[0mdot\u001b[0m\u001b[0;34m(\u001b[0m\u001b[0mself\u001b[0m\u001b[0;34m.\u001b[0m\u001b[0mweights2\u001b[0m\u001b[0;34m.\u001b[0m\u001b[0mT\u001b[0m\u001b[0;34m)\u001b[0m\u001b[0;34m\u001b[0m\u001b[0;34m\u001b[0m\u001b[0m\n\u001b[0m\u001b[1;32m     57\u001b[0m \u001b[0;34m\u001b[0m\u001b[0m\n\u001b[1;32m     58\u001b[0m         \u001b[0;31m# z2 delta: how much were the weights off?\u001b[0m\u001b[0;34m\u001b[0m\u001b[0;34m\u001b[0m\u001b[0;34m\u001b[0m\u001b[0m\n",
            "\u001b[0;31mValueError\u001b[0m: shapes (3,1000) and (1,3) not aligned: 1000 (dim 1) != 1 (dim 0)"
          ]
        }
      ]
    },
    {
      "cell_type": "markdown",
      "metadata": {
        "id": "hcIb64cabXEF",
        "colab_type": "text"
      },
      "source": [
        "## Challenge\n",
        "\n",
        "In the module project, you will implement backpropagation inside a multi-layer perceptron (aka a feedforward neural network). "
      ]
    },
    {
      "cell_type": "markdown",
      "metadata": {
        "toc-hr-collapsed": true,
        "id": "9kPsLn3JbXEG",
        "colab_type": "text"
      },
      "source": [
        "# Stochastic Gradient Descent (Learn)"
      ]
    },
    {
      "cell_type": "markdown",
      "metadata": {
        "id": "XrVvxufjbXEH",
        "colab_type": "text"
      },
      "source": [
        "## Overview\n",
        "\n",
        "The What - Stochastic Gradient Descent calculates an approximation of the gradient over the entire dataset by reviewing the predictions of a random sample. \n",
        "\n",
        "The Why - *Speed*. Calculating the gradient over the entire dataset is extremely expensive computationally. "
      ]
    },
    {
      "cell_type": "markdown",
      "metadata": {
        "colab_type": "text",
        "id": "ZF7UE-KluPsX"
      },
      "source": [
        "## Follow Along\n",
        "\n",
        "A true Stochastic GD-based implementation from [Welch Labs](https://www.youtube.com/watch?v=bxe2T-V8XRs)"
      ]
    },
    {
      "cell_type": "code",
      "metadata": {
        "id": "Sk2Dno0cbXEI",
        "colab_type": "code",
        "colab": {},
        "outputId": "8d5d2760-370e-421c-f0bb-155871bd6ea4"
      },
      "source": [
        "model.evaluate(X,y)\n",
        "model.predict(X)"
      ],
      "execution_count": 0,
      "outputs": [
        {
          "output_type": "stream",
          "text": [
            "3/3 [==============================] - 0s 8ms/sample - loss: 0.0428 - mean_absolute_error: 0.1932\n"
          ],
          "name": "stdout"
        },
        {
          "output_type": "execute_result",
          "data": {
            "text/plain": [
              "array([[0.99991727],\n",
              "       [0.99989295],\n",
              "       [0.999887  ]], dtype=float32)"
            ]
          },
          "metadata": {
            "tags": []
          },
          "execution_count": 38
        }
      ]
    },
    {
      "cell_type": "code",
      "metadata": {
        "id": "-TSwM1ZTbXEK",
        "colab_type": "code",
        "colab": {}
      },
      "source": [
        "class Neural_Network(object):\n",
        "    def __init__(self):        \n",
        "        #Define Hyperparameters\n",
        "        self.inputLayerSize = 2\n",
        "        self.outputLayerSize = 1\n",
        "        self.hiddenLayerSize = 3\n",
        "        \n",
        "        #Weights (parameters)\n",
        "        self.W1 = np.random.randn(self.inputLayerSize,self.hiddenLayerSize)\n",
        "        self.W2 = np.random.randn(self.hiddenLayerSize,self.outputLayerSize)\n",
        "        \n",
        "    def forward(self, X):\n",
        "        #Propogate inputs though network\n",
        "        self.z2 = np.dot(X, self.W1)\n",
        "        self.a2 = self.sigmoid(self.z2)\n",
        "        self.z3 = np.dot(self.a2, self.W2)\n",
        "        yHat = self.sigmoid(self.z3) \n",
        "        return yHat\n",
        "        \n",
        "    def sigmoid(self, z):\n",
        "        #Apply sigmoid activation function to scalar, vector, or matrix\n",
        "        return 1/(1+np.exp(-z))\n",
        "    \n",
        "    def sigmoidPrime(self,z):\n",
        "        #Gradient of sigmoid\n",
        "        return np.exp(-z)/((1+np.exp(-z))**2)\n",
        "    \n",
        "    def costFunction(self, X, y):\n",
        "        #Compute cost for given X,y, use weights already stored in class.\n",
        "        self.yHat = self.forward(X)\n",
        "        J = 0.5*sum((y-self.yHat)**2)\n",
        "        return J\n",
        "        \n",
        "    def costFunctionPrime(self, X, y):\n",
        "        #Compute derivative with respect to W and W2 for a given X and y:\n",
        "        self.yHat = self.forward(X)\n",
        "        \n",
        "        delta3 = np.multiply(-(y-self.yHat), self.sigmoidPrime(self.z3))\n",
        "        dJdW2 = np.dot(self.a2.T, delta3)\n",
        "        \n",
        "        delta2 = np.dot(delta3, self.W2.T)*self.sigmoidPrime(self.z2)\n",
        "        dJdW1 = np.dot(X.T, delta2)  \n",
        "        \n",
        "        return dJdW1, dJdW2\n",
        "    \n",
        "    #Helper Functions for interacting with other classes:\n",
        "    def getParams(self):\n",
        "        #Get W1 and W2 unrolled into vector:\n",
        "        params = np.concatenate((self.W1.ravel(), self.W2.ravel()))\n",
        "        return params\n",
        "    \n",
        "    def setParams(self, params):\n",
        "        #Set W1 and W2 using single paramater vector.\n",
        "        W1_start = 0\n",
        "        W1_end = self.hiddenLayerSize * self.inputLayerSize\n",
        "        self.W1 = np.reshape(params[W1_start:W1_end], (self.inputLayerSize , self.hiddenLayerSize))\n",
        "        W2_end = W1_end + self.hiddenLayerSize*self.outputLayerSize\n",
        "        self.W2 = np.reshape(params[W1_end:W2_end], (self.hiddenLayerSize, self.outputLayerSize))\n",
        "        \n",
        "    def computeGradients(self, X, y):\n",
        "        dJdW1, dJdW2 = self.costFunctionPrime(X, y)\n",
        "        return np.concatenate((dJdW1.ravel(), dJdW2.ravel()))"
      ],
      "execution_count": 0,
      "outputs": []
    },
    {
      "cell_type": "code",
      "metadata": {
        "colab_type": "code",
        "id": "uA9LaTgKr6rP",
        "colab": {}
      },
      "source": [
        "from scipy import optimize\n",
        "class trainer(object):\n",
        "    def __init__(self, N):\n",
        "        #Make Local reference to network:\n",
        "        self.N = N\n",
        "        \n",
        "    def callbackF(self, params):\n",
        "        self.N.setParams(params)\n",
        "        self.J.append(self.N.costFunction(self.X, self.y))   \n",
        "        \n",
        "    def costFunctionWrapper(self, params, X, y):\n",
        "        self.N.setParams(params)\n",
        "        cost = self.N.costFunction(X, y)\n",
        "        grad = self.N.computeGradients(X,y)\n",
        "        \n",
        "        return cost, grad\n",
        "        \n",
        "    def train(self, X, y):\n",
        "        #Make an internal variable for the callback function:\n",
        "        self.X = X\n",
        "        self.y = y\n",
        "\n",
        "        #Make empty list to store costs:\n",
        "        self.J = []\n",
        "        \n",
        "        params0 = self.N.getParams()\n",
        "\n",
        "        options = {'maxiter': 200, 'disp' : True}\n",
        "        _res = optimize.minimize(self.costFunctionWrapper, params0, jac=True, method='BFGS', \\\n",
        "                                 args=(X, y), options=options, callback=self.callbackF)\n",
        "\n",
        "        self.N.setParams(_res.x)\n",
        "        self.optimizationResults = _res"
      ],
      "execution_count": 0,
      "outputs": []
    },
    {
      "cell_type": "code",
      "metadata": {
        "colab_type": "code",
        "id": "g_kHb6Se1u9y",
        "colab": {}
      },
      "source": [
        "NN = Neural_Network()"
      ],
      "execution_count": 0,
      "outputs": []
    },
    {
      "cell_type": "code",
      "metadata": {
        "colab_type": "code",
        "id": "hYYVhFf4rn3q",
        "colab": {}
      },
      "source": [
        "T = trainer(NN)"
      ],
      "execution_count": 0,
      "outputs": []
    },
    {
      "cell_type": "code",
      "metadata": {
        "colab_type": "code",
        "id": "L-gYdVfgrysE",
        "outputId": "ae371bf9-692c-49b4-b165-8562dab9c06e",
        "colab": {
          "base_uri": "https://localhost:8080/",
          "height": 104
        }
      },
      "source": [
        "T.train(X,y)"
      ],
      "execution_count": 0,
      "outputs": [
        {
          "output_type": "stream",
          "text": [
            "Optimization terminated successfully.\n",
            "         Current function value: 0.000000\n",
            "         Iterations: 36\n",
            "         Function evaluations: 45\n",
            "         Gradient evaluations: 45\n"
          ],
          "name": "stdout"
        }
      ]
    },
    {
      "cell_type": "code",
      "metadata": {
        "colab_type": "code",
        "id": "Jyv_L8Z2sKOA",
        "outputId": "08725651-6d21-401b-85c0-3487370b8bc0",
        "colab": {
          "base_uri": "https://localhost:8080/",
          "height": 121
        }
      },
      "source": [
        "print(\"Predicted Output: \\n\" + str(NN.forward(X))) \n",
        "print(\"Loss: \\n\" + str(np.mean(np.square(y - NN.forward(X))))) # mean sum squared loss"
      ],
      "execution_count": 0,
      "outputs": [
        {
          "output_type": "stream",
          "text": [
            "Predicted Output: \n",
            "[[0.91991809]\n",
            " [0.85998334]\n",
            " [0.88999529]]\n",
            "Loss: \n",
            "2.3365414324478e-09\n"
          ],
          "name": "stdout"
        }
      ]
    },
    {
      "cell_type": "code",
      "metadata": {
        "colab_type": "code",
        "id": "Gtf9WI9FtGPk",
        "outputId": "d062b2a3-5a92-403e-8ce0-c070aa79907b",
        "colab": {
          "base_uri": "https://localhost:8080/",
          "height": 361
        }
      },
      "source": [
        "import matplotlib.pyplot as plt\n",
        "plt.plot(T.J)\n",
        "plt.xlabel('Iterations')\n",
        "plt.ylabel('Cost')\n",
        "plt.show()     "
      ],
      "execution_count": 0,
      "outputs": [
        {
          "output_type": "display_data",
          "data": {
            "image/png": "[encoded data removed]",
            "text/plain": [
              "<Figure size 432x288 with 1 Axes>"
            ]
          },
          "metadata": {
            "tags": [],
            "needs_background": "light"
          }
        }
      ]
    },
    {
      "cell_type": "markdown",
      "metadata": {
        "id": "K5SKwM_nbXEY",
        "colab_type": "text"
      },
      "source": [
        "## Challenge\n",
        "\n",
        "This is a reference implementation for you to explore. You will not be expected to apply it to today's module project. "
      ]
    },
    {
      "cell_type": "markdown",
      "metadata": {
        "id": "ukUy5pvNbXEY",
        "colab_type": "text"
      },
      "source": [
        "# Keras Sequential API (Learn)"
      ]
    },
    {
      "cell_type": "markdown",
      "metadata": {
        "toc-hr-collapsed": true,
        "id": "0ut77DsnbXEY",
        "colab_type": "text"
      },
      "source": [
        "## Overview\n",
        "\n",
        "> \"Keras is a high-level neural networks API, written in Python and capable of running on top of TensorFlow, CNTK, or Theano. It was developed with a focus on enabling fast experimentation. Being able to go from idea to result with the least possible delay is key to doing good research. Use Keras if you need a deep learning library that:\n",
        "\n",
        "> Allows for easy and fast prototyping (through user friendliness, modularity, and extensibility).\n",
        "Supports both convolutional networks and recurrent networks, as well as combinations of the two.\n",
        "Runs seamlessly on CPU and GPU.\" "
      ]
    },
    {
      "cell_type": "markdown",
      "metadata": {
        "colab_type": "text",
        "id": "AIJoRBxHy27n"
      },
      "source": [
        "### Keras Perceptron Sample"
      ]
    },
    {
      "cell_type": "code",
      "metadata": {
        "id": "IfhTlvzHbXEZ",
        "colab_type": "code",
        "colab": {}
      },
      "source": [
        "import pandas as pd\n",
        "\n",
        "data = { 'x1': [0,1,0,1],\n",
        "         'x2': [0,0,1,1],\n",
        "         'y':  [1,1,1,0]\n",
        "       }\n",
        "\n",
        "df = pd.DataFrame.from_dict(data).astype('int')\n",
        "X = df[['x1', 'x2']].values\n",
        "y = df['y'].values"
      ],
      "execution_count": 0,
      "outputs": []
    },
    {
      "cell_type": "code",
      "metadata": {
        "colab_type": "code",
        "id": "TQxyONqKvFxB",
        "outputId": "83400e12-33ee-406f-9da9-0ab1883f1431",
        "colab": {
          "base_uri": "https://localhost:8080/",
          "height": 204
        }
      },
      "source": [
        "from tensorflow.keras.models import Sequential\n",
        "from tensorflow.keras.layers import Dense\n",
        "\n",
        "# This is our perceptron from Monday's by-hand: \n",
        "model = Sequential()\n",
        "model.add(Dense(1,input_dim=2, activation='sigmoid'))\n",
        "model.compile(loss='binary_crossentropy', optimizer='adam', metrics=['accuracy'])\n",
        "model.fit(X,y, epochs=5)"
      ],
      "execution_count": 30,
      "outputs": [
        {
          "output_type": "stream",
          "text": [
            "Epoch 1/5\n",
            "1/1 [==============================] - 0s 2ms/step - loss: 0.7078 - accuracy: 0.2500\n",
            "Epoch 2/5\n",
            "1/1 [==============================] - 0s 2ms/step - loss: 0.7075 - accuracy: 0.5000\n",
            "Epoch 3/5\n",
            "1/1 [==============================] - 0s 886us/step - loss: 0.7073 - accuracy: 0.5000\n",
            "Epoch 4/5\n",
            "1/1 [==============================] - 0s 2ms/step - loss: 0.7070 - accuracy: 0.5000\n",
            "Epoch 5/5\n",
            "1/1 [==============================] - 0s 2ms/step - loss: 0.7067 - accuracy: 0.5000\n"
          ],
          "name": "stdout"
        },
        {
          "output_type": "execute_result",
          "data": {
            "text/plain": [
              "<tensorflow.python.keras.callbacks.History at 0x7f36a21f20f0>"
            ]
          },
          "metadata": {
            "tags": []
          },
          "execution_count": 30
        }
      ]
    },
    {
      "cell_type": "code",
      "metadata": {
        "colab_type": "code",
        "id": "Z1wfKUxszPKa",
        "outputId": "0cdacd1d-6e5a-4bbe-fabb-568cd94724be",
        "colab": {
          "base_uri": "https://localhost:8080/",
          "height": 69
        }
      },
      "source": [
        "# evaluate the model\n",
        "scores = model.evaluate(X, y)\n",
        "print(f\"{model.metrics_names[1]}: {scores[1]*100}\")"
      ],
      "execution_count": 0,
      "outputs": [
        {
          "output_type": "stream",
          "text": [
            "4/4 [==============================] - 0s 15ms/sample - loss: 0.7112 - accuracy: 0.5000\n",
            "accuracy: 50.0\n"
          ],
          "name": "stdout"
        }
      ]
    },
    {
      "cell_type": "markdown",
      "metadata": {
        "toc-hr-collapsed": true,
        "id": "vVP3yKDIbXEg",
        "colab_type": "text"
      },
      "source": [
        "## Follow Along\n",
        "\n",
        "In the `Sequential` api model, you specify a model architecture by 'sequentially specifying layers. This type of specification works well for feed forward neural networks in which the data flows in one direction (forward propagation) and the error flows in the opposite direction (backwards propagation). The Keras `Sequential` API follows a standardarized worklow to estimate a 'net: \n",
        "\n",
        "1. Load Data\n",
        "2. Define Model\n",
        "3. Compile Model\n",
        "4. Fit Model\n",
        "5. Evaluate Model\n",
        "\n",
        "You saw these steps in our Keras Perceptron Sample, but let's walk thru each step in detail."
      ]
    },
    {
      "cell_type": "markdown",
      "metadata": {
        "colab_type": "text",
        "id": "Md5D67XwqVAf",
        "toc-hr-collapsed": false
      },
      "source": [
        "### Load Data"
      ]
    },
    {
      "cell_type": "code",
      "metadata": {
        "colab_type": "code",
        "id": "bn09phMBpY1J",
        "colab": {}
      },
      "source": [
        "from tensorflow import keras\n",
        "from tensorflow.keras.datasets import mnist\n",
        "from tensorflow.keras.models import Sequential\n",
        "from tensorflow.keras.layers import Dense, Dropout\n",
        "\n",
        "# Stretch - use dropout \n",
        "import numpy as np"
      ],
      "execution_count": 0,
      "outputs": []
    },
    {
      "cell_type": "code",
      "metadata": {
        "id": "AswS5HoXbXEj",
        "colab_type": "code",
        "colab": {
          "base_uri": "https://localhost:8080/",
          "height": 51
        },
        "outputId": "17ae2166-797c-4c7c-deab-1af345df610d"
      },
      "source": [
        "# Load the Data\n",
        "(X_train, y_train), (X_test, y_test) = mnist.load_data()"
      ],
      "execution_count": 32,
      "outputs": [
        {
          "output_type": "stream",
          "text": [
            "Downloading data from https://storage.googleapis.com/tensorflow/tf-keras-datasets/mnist.npz\n",
            "11493376/11490434 [==============================] - 0s 0us/step\n"
          ],
          "name": "stdout"
        }
      ]
    },
    {
      "cell_type": "code",
      "metadata": {
        "id": "mAx5A0mSbXEk",
        "colab_type": "code",
        "colab": {
          "base_uri": "https://localhost:8080/",
          "height": 34
        },
        "outputId": "8c68144e-722f-4020-bddf-36d7569c640a"
      },
      "source": [
        "X_train[0].shape"
      ],
      "execution_count": 33,
      "outputs": [
        {
          "output_type": "execute_result",
          "data": {
            "text/plain": [
              "(28, 28)"
            ]
          },
          "metadata": {
            "tags": []
          },
          "execution_count": 33
        }
      ]
    },
    {
      "cell_type": "code",
      "metadata": {
        "id": "548X605SbXEm",
        "colab_type": "code",
        "colab": {
          "base_uri": "https://localhost:8080/",
          "height": 34
        },
        "outputId": "586c2c31-c4d4-4a13-eea1-168f8e27ed70"
      },
      "source": [
        "X_train.shape"
      ],
      "execution_count": 34,
      "outputs": [
        {
          "output_type": "execute_result",
          "data": {
            "text/plain": [
              "(60000, 28, 28)"
            ]
          },
          "metadata": {
            "tags": []
          },
          "execution_count": 34
        }
      ]
    },
    {
      "cell_type": "code",
      "metadata": {
        "id": "UvBBJ9TKbXEo",
        "colab_type": "code",
        "colab": {}
      },
      "source": [
        "# X Variable Types\n",
        "X_train = X_train.astype('float32') / 255.\n",
        "X_test = X_test.astype('float32') /255.\n",
        "\n",
        "# Correct Encoding on Y\n",
        "# What softmax expects = [0,0,0,0,0,1,0,0,0,0]\n",
        "num_classes = 10\n",
        "y_train = keras.utils.to_categorical(y_train, num_classes)\n",
        "y_test = keras.utils.to_categorical(y_test, num_classes)"
      ],
      "execution_count": 0,
      "outputs": []
    },
    {
      "cell_type": "markdown",
      "metadata": {
        "colab_type": "text",
        "id": "o0xMqOyTs5xt"
      },
      "source": [
        "### Define Model"
      ]
    },
    {
      "cell_type": "code",
      "metadata": {
        "colab_type": "code",
        "id": "Bp9USczrfu6M",
        "colab": {}
      },
      "source": [
        "from tensorflow.keras.models import Sequential\n",
        "from tensorflow.keras.layers import Dense, Flatten\n",
        "\n",
        "import numpy as np\n",
        "\n",
        "np.random.seed(812)"
      ],
      "execution_count": 0,
      "outputs": []
    },
    {
      "cell_type": "markdown",
      "metadata": {
        "colab_type": "text",
        "id": "wAzHLg27thoN"
      },
      "source": [
        "I'll instantiate my model as a \"sequential\" model. This just means that I'm going to tell Keras what my model's architecture should be one layer at a time."
      ]
    },
    {
      "cell_type": "code",
      "metadata": {
        "colab_type": "code",
        "id": "DSNsL49Xp6KI",
        "colab": {}
      },
      "source": [
        "# https://keras.io/getting-started/sequential-model-guide/\n",
        "model = Sequential()"
      ],
      "execution_count": 0,
      "outputs": []
    },
    {
      "cell_type": "markdown",
      "metadata": {
        "colab_type": "text",
        "id": "ZCYX6QzJtvpG"
      },
      "source": [
        "Adding a \"Dense\" layer to our model is how we add \"vanilla\" perceptron-based layers to our neural network. These are also called \"fully-connected\" or \"densely-connected\" layers. They're used as a layer type in lots of other Neural Net Architectures but they're not referred to as perceptrons or multi-layer perceptrons very often in those situations even though that's what they are.\n",
        "\n",
        " > [\"Just your regular densely-connected NN layer.\"](https://keras.io/layers/core/)\n",
        " \n",
        " The first argument is how many neurons we want to have in that layer. To create a perceptron-esque model we will just set it to 10. Our architecture is just an input and output layer. We will tell it that there will be 784 inputs coming into this layer from our dataset and set it to use the sigmoid activation function."
      ]
    },
    {
      "cell_type": "code",
      "metadata": {
        "colab_type": "code",
        "id": "GNzOLidxtvFa",
        "colab": {}
      },
      "source": [
        "model.add(Flatten(input_shape=(28,28)))\n",
        "model.add(Dense(10,activation=\"softmax\"))"
      ],
      "execution_count": 0,
      "outputs": []
    },
    {
      "cell_type": "code",
      "metadata": {
        "id": "yC4tHBB0zhy2",
        "colab_type": "code",
        "colab": {
          "base_uri": "https://localhost:8080/",
          "height": 221
        },
        "outputId": "6ad153e0-b754-40d8-dd2d-3fefb67d2bd9"
      },
      "source": [
        "model.summary()"
      ],
      "execution_count": 39,
      "outputs": [
        {
          "output_type": "stream",
          "text": [
            "Model: \"sequential_1\"\n",
            "_________________________________________________________________\n",
            "Layer (type)                 Output Shape              Param #   \n",
            "=================================================================\n",
            "flatten (Flatten)            (None, 784)               0         \n",
            "_________________________________________________________________\n",
            "dense_1 (Dense)              (None, 10)                7850      \n",
            "=================================================================\n",
            "Total params: 7,850\n",
            "Trainable params: 7,850\n",
            "Non-trainable params: 0\n",
            "_________________________________________________________________\n"
          ],
          "name": "stdout"
        }
      ]
    },
    {
      "cell_type": "markdown",
      "metadata": {
        "colab_type": "text",
        "id": "EnI3jwKMtBL2",
        "toc-hr-collapsed": false
      },
      "source": [
        "### Compile Model\n",
        "Using binary_crossentropy as the loss function here is just telling keras that I'm doing binary classification so that it can use the appropriate loss function accordingly. If we were predicting non-binary categories we might assign something like `categorical_crossentropy`. We're also telling keras that we want it to report model accuracy as our main error metric for each epoch. We will also be able to see the overall accuracy once the model has finished training.\n",
        "\n",
        "#### Adam Optimizer\n",
        "Check out this links for more background on the Adam optimizer and Stohastic Gradient Descent\n",
        "* [Adam Optimization Algorithm](https://machinelearningmastery.com/adam-optimization-algorithm-for-deep-learning/)\n",
        "* [Adam Optimizer - original paper](https://arxiv.org/abs/1412.6980)"
      ]
    },
    {
      "cell_type": "code",
      "metadata": {
        "colab_type": "code",
        "id": "qp6xwYaqurRO",
        "colab": {}
      },
      "source": [
        "model.compile(loss='categorical_crossentropy', optimizer='adam', metrics=['accuracy'])"
      ],
      "execution_count": 0,
      "outputs": []
    },
    {
      "cell_type": "markdown",
      "metadata": {
        "id": "i7v6pg1H0Jdh",
        "colab_type": "text"
      },
      "source": [
        ""
      ]
    },
    {
      "cell_type": "markdown",
      "metadata": {
        "colab_type": "text",
        "id": "5dW8SZ2Ls9SX",
        "toc-hr-collapsed": false
      },
      "source": [
        "### Fit Model\n",
        "\n",
        "Lets train it up! `model.fit()` has a `batch_size` parameter that we can use if we want to do mini-batch epochs, but since this tabular dataset is pretty small we're just going to delete that parameter. Keras' default `batch_size` is `None` so omiting it will tell Keras to do batch epochs."
      ]
    },
    {
      "cell_type": "code",
      "metadata": {
        "id": "_Fb4jx4sbXE0",
        "colab_type": "code",
        "colab": {
          "base_uri": "https://localhost:8080/",
          "height": 374
        },
        "outputId": "cfb11515-7766-473f-9674-cf4c4d868fe0"
      },
      "source": [
        "model.fit(X_train, y_train, epochs=10)"
      ],
      "execution_count": 41,
      "outputs": [
        {
          "output_type": "stream",
          "text": [
            "Epoch 1/10\n",
            "1875/1875 [==============================] - 2s 1ms/step - loss: 0.4681 - accuracy: 0.8764\n",
            "Epoch 2/10\n",
            "1875/1875 [==============================] - 2s 1ms/step - loss: 0.3032 - accuracy: 0.9150\n",
            "Epoch 3/10\n",
            "1875/1875 [==============================] - 2s 1ms/step - loss: 0.2833 - accuracy: 0.9210\n",
            "Epoch 4/10\n",
            "1875/1875 [==============================] - 2s 1ms/step - loss: 0.2729 - accuracy: 0.9233\n",
            "Epoch 5/10\n",
            "1875/1875 [==============================] - 2s 1ms/step - loss: 0.2667 - accuracy: 0.9257\n",
            "Epoch 6/10\n",
            "1875/1875 [==============================] - 2s 1ms/step - loss: 0.2619 - accuracy: 0.9275\n",
            "Epoch 7/10\n",
            "1875/1875 [==============================] - 2s 1ms/step - loss: 0.2582 - accuracy: 0.9276\n",
            "Epoch 8/10\n",
            "1875/1875 [==============================] - 2s 1ms/step - loss: 0.2554 - accuracy: 0.9297\n",
            "Epoch 9/10\n",
            "1875/1875 [==============================] - 2s 1ms/step - loss: 0.2530 - accuracy: 0.9305\n",
            "Epoch 10/10\n",
            "1875/1875 [==============================] - 2s 1ms/step - loss: 0.2509 - accuracy: 0.9303\n"
          ],
          "name": "stdout"
        },
        {
          "output_type": "execute_result",
          "data": {
            "text/plain": [
              "<tensorflow.python.keras.callbacks.History at 0x7f369ee7ff98>"
            ]
          },
          "metadata": {
            "tags": []
          },
          "execution_count": 41
        }
      ]
    },
    {
      "cell_type": "markdown",
      "metadata": {
        "id": "xBtC4jAebXE5",
        "colab_type": "text"
      },
      "source": [
        "### Evaluate Model"
      ]
    },
    {
      "cell_type": "code",
      "metadata": {
        "id": "z4pkv6RZbXE5",
        "colab_type": "code",
        "colab": {
          "base_uri": "https://localhost:8080/",
          "height": 119
        },
        "outputId": "12ab4b48-e16a-445c-ce92-4d84376c0a29"
      },
      "source": [
        "scores = model.evaluate(X_test,y_test)\n",
        "print(\"\\n\")\n",
        "print(\"Validation Data Metrics:\")\n",
        "print(f\"{model.metrics_names[0]}: {scores[0]}\")\n",
        "print(f\"{model.metrics_names[1]}: {scores[1]*100}\")"
      ],
      "execution_count": 42,
      "outputs": [
        {
          "output_type": "stream",
          "text": [
            "313/313 [==============================] - 0s 1ms/step - loss: 0.2637 - accuracy: 0.9270\n",
            "\n",
            "\n",
            "Validation Data Metrics:\n",
            "loss: 0.26372382044792175\n",
            "accuracy: 92.69999861717224\n"
          ],
          "name": "stdout"
        }
      ]
    },
    {
      "cell_type": "markdown",
      "metadata": {
        "colab_type": "text",
        "id": "zHYB7k9q3O8T"
      },
      "source": [
        "### Unstable Results\n",
        "\n",
        "You'll notice that if we rerun the results might differ from the origin run. This can be explain by a bunch of factors. Check out some of them in this article: \n",
        "\n",
        "<https://machinelearningmastery.com/randomness-in-machine-learning/>"
      ]
    },
    {
      "cell_type": "markdown",
      "metadata": {
        "id": "O0BBhU63bXE7",
        "colab_type": "text"
      },
      "source": [
        "## Challenge\n",
        "\n",
        "You will be expected to leverage the Keras `Sequential` api to estimate a feed forward neural networks on a dataset.\n",
        "\n",
        "---"
      ]
    }
  ]
}